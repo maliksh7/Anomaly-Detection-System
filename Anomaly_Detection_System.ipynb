{
  "nbformat": 4,
  "nbformat_minor": 0,
  "metadata": {
    "colab": {
      "name": "Anomaly-Detection-System.ipynb",
      "provenance": [],
      "collapsed_sections": [],
      "authorship_tag": "ABX9TyMb+s0As+15PmEitRjd/vsq",
      "include_colab_link": true
    },
    "kernelspec": {
      "name": "python3",
      "display_name": "Python 3"
    },
    "language_info": {
      "name": "python"
    }
  },
  "cells": [
    {
      "cell_type": "markdown",
      "metadata": {
        "id": "view-in-github",
        "colab_type": "text"
      },
      "source": [
        "<a href=\"https://colab.research.google.com/github/maliksh7/Anomaly-Detection-System/blob/main/Anomaly_Detection_System.ipynb\" target=\"_parent\"><img src=\"https://colab.research.google.com/assets/colab-badge.svg\" alt=\"Open In Colab\"/></a>"
      ]
    },
    {
      "cell_type": "markdown",
      "source": [
        "# Anomaly Detection System (IDS)\n",
        "### Models:\n",
        "- Decision Tree Classifier\n",
        "- Random Forest\n",
        "- Extra Tree\n",
        "- Naive Bayes\n",
        "- Logistic Regression\n",
        "- Multi-Layered Perceptron (MLP)\n",
        "\n",
        "### Dataset:\n",
        "- used CIC 2017 and 2018 Datasets\n",
        "- 19Lac Big training data samples\n",
        "- 800K Validation data samples"
      ],
      "metadata": {
        "id": "Tzhg_v02HmEG"
      }
    },
    {
      "cell_type": "code",
      "execution_count": null,
      "metadata": {
        "colab": {
          "base_uri": "https://localhost:8080/"
        },
        "id": "ZX1LjHBXd9fI",
        "outputId": "ccafbba3-febb-4308-9833-94be463b77bb"
      },
      "outputs": [
        {
          "output_type": "stream",
          "name": "stdout",
          "text": [
            "Mounted at /content/gdrive\n"
          ]
        }
      ],
      "source": [
        "from google.colab import drive\n",
        "drive.mount('/content/gdrive')"
      ]
    },
    {
      "cell_type": "code",
      "source": [
        "import pandas as pd\n",
        "import numpy as np\n",
        "from keras.models import Model\n",
        "from tensorflow.keras.optimizers import RMSprop\n",
        "from tensorflow.keras.layers import (\n",
        "    BatchNormalization, Input,Dense,Flatten,Dropout,Reshape,Conv2D,MaxPooling2D,UpSampling2D,Conv2DTranspose\n",
        ")\n",
        "\n",
        "from keras.models import Model,Sequential\n",
        "from keras.callbacks import ModelCheckpoint\n",
        "from tensorflow.keras.optimizers import Adadelta, RMSprop,SGD,Adam\n",
        "from keras import regularizers\n",
        "\n",
        "from keras import backend as K\n",
        "import seaborn as sns\n",
        "from sklearn.model_selection import train_test_split\n",
        "from sklearn.tree import DecisionTreeClassifier\n",
        "from sklearn import metrics\n",
        "from sklearn.linear_model import LogisticRegression"
      ],
      "metadata": {
        "id": "sbGduAHeeWPz"
      },
      "execution_count": null,
      "outputs": []
    },
    {
      "cell_type": "code",
      "source": [
        "df = pd.read_csv('/content/gdrive/MyDrive/Final Year Project/fyp-2/Datasets/MachineLearningCVE/19LAC-Big-Training.csv')"
      ],
      "metadata": {
        "id": "rdw5g7jZfUu2"
      },
      "execution_count": null,
      "outputs": []
    },
    {
      "cell_type": "code",
      "source": [
        ""
      ],
      "metadata": {
        "id": "7K1O_DeKpvtH"
      },
      "execution_count": null,
      "outputs": []
    },
    {
      "cell_type": "code",
      "metadata": {
        "id": "myHkyqk_etqz",
        "colab": {
          "base_uri": "https://localhost:8080/"
        },
        "outputId": "e61d4f8b-f473-42fb-c2b8-60a304f8ac6d"
      },
      "source": [
        "\n",
        "df[' Label'].value_counts()"
      ],
      "execution_count": null,
      "outputs": [
        {
          "output_type": "execute_result",
          "data": {
            "text/plain": [
              "0     1500000\n",
              "10     100000\n",
              "4      100000\n",
              "2      100000\n",
              "1      100000\n",
              "Name:  Label, dtype: int64"
            ]
          },
          "metadata": {},
          "execution_count": 75
        }
      ]
    },
    {
      "cell_type": "code",
      "metadata": {
        "id": "cdbH2gCRc2M2"
      },
      "source": [
        "df.replace([np.inf, -np.inf], np.nan, inplace=True)\n",
        "# Dropping all the rows with nan values\n",
        "df.dropna(inplace=True)"
      ],
      "execution_count": null,
      "outputs": []
    },
    {
      "cell_type": "code",
      "source": [
        "del df['Unnamed: 0']\n",
        "df = df.astype('uint8', errors='ignore')"
      ],
      "metadata": {
        "id": "M8fqo-Iqr0dJ"
      },
      "execution_count": null,
      "outputs": []
    },
    {
      "cell_type": "code",
      "source": [
        "df.info()"
      ],
      "metadata": {
        "colab": {
          "base_uri": "https://localhost:8080/"
        },
        "id": "fizXyTgmsQxA",
        "outputId": "76d5382c-e50b-4ef0-9d6b-0ae1a98c770f"
      },
      "execution_count": null,
      "outputs": [
        {
          "output_type": "stream",
          "name": "stdout",
          "text": [
            "<class 'pandas.core.frame.DataFrame'>\n",
            "Int64Index: 1801956 entries, 0 to 1899999\n",
            "Data columns (total 55 columns):\n",
            " #   Column                       Dtype\n",
            "---  ------                       -----\n",
            " 0    Destination Port            uint8\n",
            " 1    Flow Duration               uint8\n",
            " 2    Total Fwd Packets           uint8\n",
            " 3    Total Backward Packets      uint8\n",
            " 4   Total Length of Fwd Packets  uint8\n",
            " 5    Fwd Packet Length Max       uint8\n",
            " 6    Fwd Packet Length Min       uint8\n",
            " 7    Fwd Packet Length Mean      uint8\n",
            " 8    Fwd Packet Length Std       uint8\n",
            " 9   Bwd Packet Length Max        uint8\n",
            " 10   Bwd Packet Length Min       uint8\n",
            " 11   Bwd Packet Length Mean      uint8\n",
            " 12   Bwd Packet Length Std       uint8\n",
            " 13  Flow Bytes/s                 uint8\n",
            " 14   Flow Packets/s              uint8\n",
            " 15   Flow IAT Mean               uint8\n",
            " 16   Flow IAT Std                uint8\n",
            " 17   Flow IAT Max                uint8\n",
            " 18   Flow IAT Min                uint8\n",
            " 19  Fwd IAT Total                uint8\n",
            " 20   Fwd IAT Mean                uint8\n",
            " 21   Fwd IAT Std                 uint8\n",
            " 22   Fwd IAT Max                 uint8\n",
            " 23   Fwd IAT Min                 uint8\n",
            " 24  Bwd IAT Total                uint8\n",
            " 25   Bwd IAT Max                 uint8\n",
            " 26  Fwd PSH Flags                uint8\n",
            " 27   Fwd Header Length           uint8\n",
            " 28   Bwd Header Length           uint8\n",
            " 29  Fwd Packets/s                uint8\n",
            " 30   Min Packet Length           uint8\n",
            " 31   Max Packet Length           uint8\n",
            " 32   Packet Length Mean          uint8\n",
            " 33   Packet Length Std           uint8\n",
            " 34   Packet Length Variance      uint8\n",
            " 35  FIN Flag Count               uint8\n",
            " 36   PSH Flag Count              uint8\n",
            " 37   ACK Flag Count              uint8\n",
            " 38   URG Flag Count              uint8\n",
            " 39   Average Packet Size         uint8\n",
            " 40   Avg Fwd Segment Size        uint8\n",
            " 41   Avg Bwd Segment Size        uint8\n",
            " 42  Subflow Fwd Packets          uint8\n",
            " 43   Subflow Fwd Bytes           uint8\n",
            " 44   Subflow Bwd Packets         uint8\n",
            " 45   Subflow Bwd Bytes           uint8\n",
            " 46  Init_Win_bytes_forward       uint8\n",
            " 47   Init_Win_bytes_backward     uint8\n",
            " 48   act_data_pkt_fwd            uint8\n",
            " 49   min_seg_size_forward        uint8\n",
            " 50  Idle Mean                    uint8\n",
            " 51   Idle Std                    uint8\n",
            " 52   Idle Max                    uint8\n",
            " 53   Idle Min                    uint8\n",
            " 54   Label                       uint8\n",
            "dtypes: uint8(55)\n",
            "memory usage: 108.3 MB\n"
          ]
        }
      ]
    },
    {
      "cell_type": "code",
      "metadata": {
        "id": "T_wi2SBSe5Ti"
      },
      "source": [
        "from sklearn.preprocessing import LabelEncoder\n",
        "\n",
        "le = LabelEncoder()\n",
        "Y=le.fit_transform(df[' Label'])\n",
        "# len(Y)\n",
        "X=df.iloc[:,:-1]"
      ],
      "execution_count": null,
      "outputs": []
    },
    {
      "cell_type": "code",
      "metadata": {
        "id": "qRNa-EiKdFj9",
        "colab": {
          "base_uri": "https://localhost:8080/"
        },
        "outputId": "6057c4a0-7677-41d6-a820-49c7754b3cdd"
      },
      "source": [
        "X=df.iloc[:,:-1]\n",
        "\n",
        "print(X.shape)\n",
        "X.dropna()\n",
        "print(X.shape,np.max(np.max(X).astype(np.float32)))\n",
        "count = -1\n",
        "for i in np.max(X).astype(np.float32):\n",
        "    count += 1\n",
        "    print(count, '---',i)"
      ],
      "execution_count": null,
      "outputs": [
        {
          "output_type": "stream",
          "name": "stdout",
          "text": [
            "(1801956, 54)\n",
            "(1801956, 54) 255.0\n",
            "0 --- 255.0\n",
            "1 --- 255.0\n",
            "2 --- 255.0\n",
            "3 --- 255.0\n",
            "4 --- 255.0\n",
            "5 --- 255.0\n",
            "6 --- 254.0\n",
            "7 --- 255.0\n",
            "8 --- 255.0\n",
            "9 --- 255.0\n",
            "10 --- 255.0\n",
            "11 --- 255.0\n",
            "12 --- 255.0\n",
            "13 --- 255.0\n",
            "14 --- 255.0\n",
            "15 --- 255.0\n",
            "16 --- 255.0\n",
            "17 --- 255.0\n",
            "18 --- 255.0\n",
            "19 --- 255.0\n",
            "20 --- 255.0\n",
            "21 --- 255.0\n",
            "22 --- 255.0\n",
            "23 --- 255.0\n",
            "24 --- 255.0\n",
            "25 --- 255.0\n",
            "26 --- 1.0\n",
            "27 --- 252.0\n",
            "28 --- 252.0\n",
            "29 --- 255.0\n",
            "30 --- 254.0\n",
            "31 --- 255.0\n",
            "32 --- 255.0\n",
            "33 --- 255.0\n",
            "34 --- 255.0\n",
            "35 --- 1.0\n",
            "36 --- 1.0\n",
            "37 --- 1.0\n",
            "38 --- 1.0\n",
            "39 --- 255.0\n",
            "40 --- 255.0\n",
            "41 --- 255.0\n",
            "42 --- 255.0\n",
            "43 --- 255.0\n",
            "44 --- 255.0\n",
            "45 --- 255.0\n",
            "46 --- 255.0\n",
            "47 --- 255.0\n",
            "48 --- 255.0\n",
            "49 --- 255.0\n",
            "50 --- 255.0\n",
            "51 --- 255.0\n",
            "52 --- 255.0\n",
            "53 --- 255.0\n"
          ]
        }
      ]
    },
    {
      "cell_type": "code",
      "metadata": {
        "id": "xQs5168RdFg0",
        "colab": {
          "base_uri": "https://localhost:8080/"
        },
        "outputId": "94853ff2-a3ba-4dfd-fe5e-8b168adf14b7"
      },
      "source": [
        "np.random.seed(0)\n",
        "#x_train, x_test, y_train, y_test = train_test_split(label_puts, target, test_size = 0.99, random_state = 42)\n",
        "x_train, x_test, y_train, y_test = train_test_split(X, Y, test_size = 0.20, random_state = 42)\n",
        "print(x_train.shape,len(y_train),x_test.shape,len(y_test))\n",
        "x_train.columns"
      ],
      "execution_count": null,
      "outputs": [
        {
          "output_type": "stream",
          "name": "stdout",
          "text": [
            "(1441564, 54) 1441564 (360392, 54) 360392\n"
          ]
        },
        {
          "output_type": "execute_result",
          "data": {
            "text/plain": [
              "Index([' Destination Port', ' Flow Duration', ' Total Fwd Packets',\n",
              "       ' Total Backward Packets', 'Total Length of Fwd Packets',\n",
              "       ' Fwd Packet Length Max', ' Fwd Packet Length Min',\n",
              "       ' Fwd Packet Length Mean', ' Fwd Packet Length Std',\n",
              "       'Bwd Packet Length Max', ' Bwd Packet Length Min',\n",
              "       ' Bwd Packet Length Mean', ' Bwd Packet Length Std', 'Flow Bytes/s',\n",
              "       ' Flow Packets/s', ' Flow IAT Mean', ' Flow IAT Std', ' Flow IAT Max',\n",
              "       ' Flow IAT Min', 'Fwd IAT Total', ' Fwd IAT Mean', ' Fwd IAT Std',\n",
              "       ' Fwd IAT Max', ' Fwd IAT Min', 'Bwd IAT Total', ' Bwd IAT Max',\n",
              "       'Fwd PSH Flags', ' Fwd Header Length', ' Bwd Header Length',\n",
              "       'Fwd Packets/s', ' Min Packet Length', ' Max Packet Length',\n",
              "       ' Packet Length Mean', ' Packet Length Std', ' Packet Length Variance',\n",
              "       'FIN Flag Count', ' PSH Flag Count', ' ACK Flag Count',\n",
              "       ' URG Flag Count', ' Average Packet Size', ' Avg Fwd Segment Size',\n",
              "       ' Avg Bwd Segment Size', 'Subflow Fwd Packets', ' Subflow Fwd Bytes',\n",
              "       ' Subflow Bwd Packets', ' Subflow Bwd Bytes', 'Init_Win_bytes_forward',\n",
              "       ' Init_Win_bytes_backward', ' act_data_pkt_fwd',\n",
              "       ' min_seg_size_forward', 'Idle Mean', ' Idle Std', ' Idle Max',\n",
              "       ' Idle Min'],\n",
              "      dtype='object')"
            ]
          },
          "metadata": {},
          "execution_count": 24
        }
      ]
    },
    {
      "cell_type": "code",
      "metadata": {
        "colab": {
          "base_uri": "https://localhost:8080/"
        },
        "id": "NBk9O1OwdFb0",
        "outputId": "dc3035d7-90a4-4d9a-c44f-a541a87a4a8b"
      },
      "source": [
        "df[' Label'].value_counts()"
      ],
      "execution_count": null,
      "outputs": [
        {
          "output_type": "execute_result",
          "data": {
            "text/plain": [
              "0     1500000\n",
              "10     100000\n",
              "4      100000\n",
              "2      100000\n",
              "1        1956\n",
              "Name:  Label, dtype: int64"
            ]
          },
          "metadata": {},
          "execution_count": 25
        }
      ]
    },
    {
      "cell_type": "code",
      "source": [
        "df.shape"
      ],
      "metadata": {
        "colab": {
          "base_uri": "https://localhost:8080/"
        },
        "id": "sryIR2-St9lQ",
        "outputId": "e6f923c0-082c-4c96-a9b6-70c7aeb40a72"
      },
      "execution_count": null,
      "outputs": [
        {
          "output_type": "execute_result",
          "data": {
            "text/plain": [
              "(1801956, 55)"
            ]
          },
          "metadata": {},
          "execution_count": 26
        }
      ]
    },
    {
      "cell_type": "code",
      "metadata": {
        "id": "32CtMj9eiu0c"
      },
      "source": [
        "filename = ('/content/gdrive/MyDrive/Final Year Project/fyp-2/Datasets/MachineLearningCVE/18LAC-Big-Training.h5')\n",
        "df.to_hdf(filename, 'data', mode='w', format='table')"
      ],
      "execution_count": null,
      "outputs": []
    },
    {
      "cell_type": "code",
      "source": [
        "df.shape"
      ],
      "metadata": {
        "colab": {
          "base_uri": "https://localhost:8080/"
        },
        "id": "wVF4-RCHs9iK",
        "outputId": "db433871-0de7-47f7-f989-1305038ed4be"
      },
      "execution_count": null,
      "outputs": [
        {
          "output_type": "execute_result",
          "data": {
            "text/plain": [
              "(1801956, 55)"
            ]
          },
          "metadata": {},
          "execution_count": 28
        }
      ]
    },
    {
      "cell_type": "code",
      "source": [
        "from pandas.io.pytables import read_hdf\n",
        "df = read_hdf(filename)"
      ],
      "metadata": {
        "id": "hitByDMmtEnY"
      },
      "execution_count": null,
      "outputs": []
    },
    {
      "cell_type": "code",
      "source": [
        "df.info()"
      ],
      "metadata": {
        "colab": {
          "base_uri": "https://localhost:8080/"
        },
        "id": "jMjygY-2uUWu",
        "outputId": "f7c01fc9-c0ce-44bc-9ed7-94213b5419e0"
      },
      "execution_count": null,
      "outputs": [
        {
          "output_type": "stream",
          "name": "stdout",
          "text": [
            "<class 'pandas.core.frame.DataFrame'>\n",
            "Int64Index: 1801956 entries, 0 to 1899999\n",
            "Data columns (total 55 columns):\n",
            " #   Column                       Dtype\n",
            "---  ------                       -----\n",
            " 0    Destination Port            uint8\n",
            " 1    Flow Duration               uint8\n",
            " 2    Total Fwd Packets           uint8\n",
            " 3    Total Backward Packets      uint8\n",
            " 4   Total Length of Fwd Packets  uint8\n",
            " 5    Fwd Packet Length Max       uint8\n",
            " 6    Fwd Packet Length Min       uint8\n",
            " 7    Fwd Packet Length Mean      uint8\n",
            " 8    Fwd Packet Length Std       uint8\n",
            " 9   Bwd Packet Length Max        uint8\n",
            " 10   Bwd Packet Length Min       uint8\n",
            " 11   Bwd Packet Length Mean      uint8\n",
            " 12   Bwd Packet Length Std       uint8\n",
            " 13  Flow Bytes/s                 uint8\n",
            " 14   Flow Packets/s              uint8\n",
            " 15   Flow IAT Mean               uint8\n",
            " 16   Flow IAT Std                uint8\n",
            " 17   Flow IAT Max                uint8\n",
            " 18   Flow IAT Min                uint8\n",
            " 19  Fwd IAT Total                uint8\n",
            " 20   Fwd IAT Mean                uint8\n",
            " 21   Fwd IAT Std                 uint8\n",
            " 22   Fwd IAT Max                 uint8\n",
            " 23   Fwd IAT Min                 uint8\n",
            " 24  Bwd IAT Total                uint8\n",
            " 25   Bwd IAT Max                 uint8\n",
            " 26  Fwd PSH Flags                uint8\n",
            " 27   Fwd Header Length           uint8\n",
            " 28   Bwd Header Length           uint8\n",
            " 29  Fwd Packets/s                uint8\n",
            " 30   Min Packet Length           uint8\n",
            " 31   Max Packet Length           uint8\n",
            " 32   Packet Length Mean          uint8\n",
            " 33   Packet Length Std           uint8\n",
            " 34   Packet Length Variance      uint8\n",
            " 35  FIN Flag Count               uint8\n",
            " 36   PSH Flag Count              uint8\n",
            " 37   ACK Flag Count              uint8\n",
            " 38   URG Flag Count              uint8\n",
            " 39   Average Packet Size         uint8\n",
            " 40   Avg Fwd Segment Size        uint8\n",
            " 41   Avg Bwd Segment Size        uint8\n",
            " 42  Subflow Fwd Packets          uint8\n",
            " 43   Subflow Fwd Bytes           uint8\n",
            " 44   Subflow Bwd Packets         uint8\n",
            " 45   Subflow Bwd Bytes           uint8\n",
            " 46  Init_Win_bytes_forward       uint8\n",
            " 47   Init_Win_bytes_backward     uint8\n",
            " 48   act_data_pkt_fwd            uint8\n",
            " 49   min_seg_size_forward        uint8\n",
            " 50  Idle Mean                    uint8\n",
            " 51   Idle Std                    uint8\n",
            " 52   Idle Max                    uint8\n",
            " 53   Idle Min                    uint8\n",
            " 54   Label                       uint8\n",
            "dtypes: uint8(55)\n",
            "memory usage: 108.3 MB\n"
          ]
        }
      ]
    },
    {
      "cell_type": "code",
      "source": [
        ""
      ],
      "metadata": {
        "id": "WeZREvWbuZeV"
      },
      "execution_count": null,
      "outputs": []
    },
    {
      "cell_type": "code",
      "metadata": {
        "id": "L8vY41TLdFIs"
      },
      "source": [
        "from sklearn.preprocessing import LabelEncoder\n",
        "\n",
        "le = LabelEncoder()\n",
        "Y=le.fit_transform(df[' Label'])\n",
        "len(Y)\n",
        "X=df.iloc[:,:-1]"
      ],
      "execution_count": null,
      "outputs": []
    },
    {
      "cell_type": "code",
      "metadata": {
        "colab": {
          "base_uri": "https://localhost:8080/"
        },
        "id": "DFOTHfuudFFs",
        "outputId": "d89efe4c-e7de-4b35-a697-97d442dac314"
      },
      "source": [
        "x_train, x_test, y_train, y_test = train_test_split(X, Y, test_size = 0.20, random_state = 42)\n",
        "print(x_train.shape,len(y_train),x_test.shape,len(y_test))\n",
        "len(x_train.columns)"
      ],
      "execution_count": null,
      "outputs": [
        {
          "output_type": "stream",
          "name": "stdout",
          "text": [
            "(1441564, 54) 1441564 (360392, 54) 360392\n"
          ]
        },
        {
          "output_type": "execute_result",
          "data": {
            "text/plain": [
              "54"
            ]
          },
          "metadata": {},
          "execution_count": 34
        }
      ]
    },
    {
      "cell_type": "markdown",
      "source": [
        "#**Decision Tree Classifier**"
      ],
      "metadata": {
        "id": "Ure-oJSAvPCe"
      }
    },
    {
      "cell_type": "code",
      "metadata": {
        "colab": {
          "base_uri": "https://localhost:8080/"
        },
        "id": "THRpUrhvdFC0",
        "outputId": "5e396fd5-f31e-4a3b-ba07-a5ff5cda081e"
      },
      "source": [
        "print(x_train.shape, y_train.shape)\n",
        "dtc = DecisionTreeClassifier(max_depth = 15)\n",
        "dtc = dtc.fit(x_train,y_train)\n",
        "\n",
        "y_pred = dtc.predict(x_test)\n",
        "y_pred\n",
        "\n",
        "from sklearn.metrics import accuracy_score,f1_score\n",
        "print(dtc.score(x_test, y_test))\n",
        "print('Accuracy', accuracy_score(y_test, y_pred))\n",
        "print('F1 Score', f1_score(y_test, y_pred, average='macro'))"
      ],
      "execution_count": null,
      "outputs": [
        {
          "output_type": "stream",
          "name": "stdout",
          "text": [
            "(1441564, 54) (1441564,)\n",
            "0.9986264955936869\n",
            "Accuracy 0.9986264955936869\n",
            "F1 Score 0.9569747099218142\n"
          ]
        }
      ]
    },
    {
      "cell_type": "code",
      "metadata": {
        "id": "E0Cf3z4rpQXm",
        "colab": {
          "base_uri": "https://localhost:8080/"
        },
        "outputId": "917a0189-81cd-440e-86f8-687e9c12b996"
      },
      "source": [
        "validation_accuracy = []\n",
        "train_accuracy = []\n",
        "\n",
        "for depth in range(1,15):\n",
        "    dt_model = DecisionTreeClassifier(max_depth=depth, random_state=10)\n",
        "    dt_model.fit(x_train, y_train)\n",
        "    train_accuracy.append(dt_model.score(x_train, y_train))\n",
        "    validation_accuracy.append(dt_model.score(x_test, y_test))\n",
        "print(len(train_accuracy))\n",
        "print(len(validation_accuracy))\n",
        "frame = pd.DataFrame({'max_depth':range(1,15), 'train_acc':train_accuracy, 'valid_acc':validation_accuracy})"
      ],
      "execution_count": null,
      "outputs": [
        {
          "output_type": "stream",
          "name": "stdout",
          "text": [
            "14\n",
            "14\n"
          ]
        }
      ]
    },
    {
      "cell_type": "code",
      "source": [
        "frame"
      ],
      "metadata": {
        "colab": {
          "base_uri": "https://localhost:8080/",
          "height": 488
        },
        "id": "cIAZa3BrvGEQ",
        "outputId": "893e8396-f883-4aee-eccb-7a40d4a366e7"
      },
      "execution_count": null,
      "outputs": [
        {
          "output_type": "execute_result",
          "data": {
            "text/html": [
              "\n",
              "  <div id=\"df-4b0b7ec0-5f4b-49bc-8114-5b16e5b17f1c\">\n",
              "    <div class=\"colab-df-container\">\n",
              "      <div>\n",
              "<style scoped>\n",
              "    .dataframe tbody tr th:only-of-type {\n",
              "        vertical-align: middle;\n",
              "    }\n",
              "\n",
              "    .dataframe tbody tr th {\n",
              "        vertical-align: top;\n",
              "    }\n",
              "\n",
              "    .dataframe thead th {\n",
              "        text-align: right;\n",
              "    }\n",
              "</style>\n",
              "<table border=\"1\" class=\"dataframe\">\n",
              "  <thead>\n",
              "    <tr style=\"text-align: right;\">\n",
              "      <th></th>\n",
              "      <th>max_depth</th>\n",
              "      <th>train_acc</th>\n",
              "      <th>valid_acc</th>\n",
              "    </tr>\n",
              "  </thead>\n",
              "  <tbody>\n",
              "    <tr>\n",
              "      <th>0</th>\n",
              "      <td>1</td>\n",
              "      <td>0.832471</td>\n",
              "      <td>0.832260</td>\n",
              "    </tr>\n",
              "    <tr>\n",
              "      <th>1</th>\n",
              "      <td>2</td>\n",
              "      <td>0.877835</td>\n",
              "      <td>0.877339</td>\n",
              "    </tr>\n",
              "    <tr>\n",
              "      <th>2</th>\n",
              "      <td>3</td>\n",
              "      <td>0.895412</td>\n",
              "      <td>0.894828</td>\n",
              "    </tr>\n",
              "    <tr>\n",
              "      <th>3</th>\n",
              "      <td>4</td>\n",
              "      <td>0.932003</td>\n",
              "      <td>0.931186</td>\n",
              "    </tr>\n",
              "    <tr>\n",
              "      <th>4</th>\n",
              "      <td>5</td>\n",
              "      <td>0.970905</td>\n",
              "      <td>0.970690</td>\n",
              "    </tr>\n",
              "    <tr>\n",
              "      <th>5</th>\n",
              "      <td>6</td>\n",
              "      <td>0.978472</td>\n",
              "      <td>0.978213</td>\n",
              "    </tr>\n",
              "    <tr>\n",
              "      <th>6</th>\n",
              "      <td>7</td>\n",
              "      <td>0.992508</td>\n",
              "      <td>0.992408</td>\n",
              "    </tr>\n",
              "    <tr>\n",
              "      <th>7</th>\n",
              "      <td>8</td>\n",
              "      <td>0.998103</td>\n",
              "      <td>0.997997</td>\n",
              "    </tr>\n",
              "    <tr>\n",
              "      <th>8</th>\n",
              "      <td>9</td>\n",
              "      <td>0.998500</td>\n",
              "      <td>0.998418</td>\n",
              "    </tr>\n",
              "    <tr>\n",
              "      <th>9</th>\n",
              "      <td>10</td>\n",
              "      <td>0.998615</td>\n",
              "      <td>0.998485</td>\n",
              "    </tr>\n",
              "    <tr>\n",
              "      <th>10</th>\n",
              "      <td>11</td>\n",
              "      <td>0.998692</td>\n",
              "      <td>0.998538</td>\n",
              "    </tr>\n",
              "    <tr>\n",
              "      <th>11</th>\n",
              "      <td>12</td>\n",
              "      <td>0.998775</td>\n",
              "      <td>0.998560</td>\n",
              "    </tr>\n",
              "    <tr>\n",
              "      <th>12</th>\n",
              "      <td>13</td>\n",
              "      <td>0.998819</td>\n",
              "      <td>0.998565</td>\n",
              "    </tr>\n",
              "    <tr>\n",
              "      <th>13</th>\n",
              "      <td>14</td>\n",
              "      <td>0.998919</td>\n",
              "      <td>0.998579</td>\n",
              "    </tr>\n",
              "  </tbody>\n",
              "</table>\n",
              "</div>\n",
              "      <button class=\"colab-df-convert\" onclick=\"convertToInteractive('df-4b0b7ec0-5f4b-49bc-8114-5b16e5b17f1c')\"\n",
              "              title=\"Convert this dataframe to an interactive table.\"\n",
              "              style=\"display:none;\">\n",
              "        \n",
              "  <svg xmlns=\"http://www.w3.org/2000/svg\" height=\"24px\"viewBox=\"0 0 24 24\"\n",
              "       width=\"24px\">\n",
              "    <path d=\"M0 0h24v24H0V0z\" fill=\"none\"/>\n",
              "    <path d=\"M18.56 5.44l.94 2.06.94-2.06 2.06-.94-2.06-.94-.94-2.06-.94 2.06-2.06.94zm-11 1L8.5 8.5l.94-2.06 2.06-.94-2.06-.94L8.5 2.5l-.94 2.06-2.06.94zm10 10l.94 2.06.94-2.06 2.06-.94-2.06-.94-.94-2.06-.94 2.06-2.06.94z\"/><path d=\"M17.41 7.96l-1.37-1.37c-.4-.4-.92-.59-1.43-.59-.52 0-1.04.2-1.43.59L10.3 9.45l-7.72 7.72c-.78.78-.78 2.05 0 2.83L4 21.41c.39.39.9.59 1.41.59.51 0 1.02-.2 1.41-.59l7.78-7.78 2.81-2.81c.8-.78.8-2.07 0-2.86zM5.41 20L4 18.59l7.72-7.72 1.47 1.35L5.41 20z\"/>\n",
              "  </svg>\n",
              "      </button>\n",
              "      \n",
              "  <style>\n",
              "    .colab-df-container {\n",
              "      display:flex;\n",
              "      flex-wrap:wrap;\n",
              "      gap: 12px;\n",
              "    }\n",
              "\n",
              "    .colab-df-convert {\n",
              "      background-color: #E8F0FE;\n",
              "      border: none;\n",
              "      border-radius: 50%;\n",
              "      cursor: pointer;\n",
              "      display: none;\n",
              "      fill: #1967D2;\n",
              "      height: 32px;\n",
              "      padding: 0 0 0 0;\n",
              "      width: 32px;\n",
              "    }\n",
              "\n",
              "    .colab-df-convert:hover {\n",
              "      background-color: #E2EBFA;\n",
              "      box-shadow: 0px 1px 2px rgba(60, 64, 67, 0.3), 0px 1px 3px 1px rgba(60, 64, 67, 0.15);\n",
              "      fill: #174EA6;\n",
              "    }\n",
              "\n",
              "    [theme=dark] .colab-df-convert {\n",
              "      background-color: #3B4455;\n",
              "      fill: #D2E3FC;\n",
              "    }\n",
              "\n",
              "    [theme=dark] .colab-df-convert:hover {\n",
              "      background-color: #434B5C;\n",
              "      box-shadow: 0px 1px 3px 1px rgba(0, 0, 0, 0.15);\n",
              "      filter: drop-shadow(0px 1px 2px rgba(0, 0, 0, 0.3));\n",
              "      fill: #FFFFFF;\n",
              "    }\n",
              "  </style>\n",
              "\n",
              "      <script>\n",
              "        const buttonEl =\n",
              "          document.querySelector('#df-4b0b7ec0-5f4b-49bc-8114-5b16e5b17f1c button.colab-df-convert');\n",
              "        buttonEl.style.display =\n",
              "          google.colab.kernel.accessAllowed ? 'block' : 'none';\n",
              "\n",
              "        async function convertToInteractive(key) {\n",
              "          const element = document.querySelector('#df-4b0b7ec0-5f4b-49bc-8114-5b16e5b17f1c');\n",
              "          const dataTable =\n",
              "            await google.colab.kernel.invokeFunction('convertToInteractive',\n",
              "                                                     [key], {});\n",
              "          if (!dataTable) return;\n",
              "\n",
              "          const docLinkHtml = 'Like what you see? Visit the ' +\n",
              "            '<a target=\"_blank\" href=https://colab.research.google.com/notebooks/data_table.ipynb>data table notebook</a>'\n",
              "            + ' to learn more about interactive tables.';\n",
              "          element.innerHTML = '';\n",
              "          dataTable['output_type'] = 'display_data';\n",
              "          await google.colab.output.renderOutput(dataTable, element);\n",
              "          const docLink = document.createElement('div');\n",
              "          docLink.innerHTML = docLinkHtml;\n",
              "          element.appendChild(docLink);\n",
              "        }\n",
              "      </script>\n",
              "    </div>\n",
              "  </div>\n",
              "  "
            ],
            "text/plain": [
              "    max_depth  train_acc  valid_acc\n",
              "0           1   0.832471   0.832260\n",
              "1           2   0.877835   0.877339\n",
              "2           3   0.895412   0.894828\n",
              "3           4   0.932003   0.931186\n",
              "4           5   0.970905   0.970690\n",
              "5           6   0.978472   0.978213\n",
              "6           7   0.992508   0.992408\n",
              "7           8   0.998103   0.997997\n",
              "8           9   0.998500   0.998418\n",
              "9          10   0.998615   0.998485\n",
              "10         11   0.998692   0.998538\n",
              "11         12   0.998775   0.998560\n",
              "12         13   0.998819   0.998565\n",
              "13         14   0.998919   0.998579"
            ]
          },
          "metadata": {},
          "execution_count": 38
        }
      ]
    },
    {
      "cell_type": "code",
      "source": [
        ""
      ],
      "metadata": {
        "id": "NaCTkWJWyQHw"
      },
      "execution_count": null,
      "outputs": []
    },
    {
      "cell_type": "markdown",
      "source": [
        "#**Random Forest CLassifier**"
      ],
      "metadata": {
        "id": "-RQr4AXOy96G"
      }
    },
    {
      "cell_type": "code",
      "metadata": {
        "colab": {
          "base_uri": "https://localhost:8080/"
        },
        "id": "aWROMiGqdE_0",
        "outputId": "4e909a32-403b-47c6-855e-4e6d5fca61c6"
      },
      "source": [
        "# print('---------------------------Random Forest CLassifier------------------')\n",
        "from sklearn.ensemble import RandomForestClassifier\n",
        "model = RandomForestClassifier(n_estimators =5)\n",
        "model = model.fit(x_train, y_train)\n",
        "rfy_pred = model.predict(x_test)\n",
        "acc = metrics.accuracy_score(y_test, rfy_pred)\n",
        "print('F1 Score: ', f1_score(y_test, rfy_pred, average='macro'))\n",
        "print('Accuracy: ', acc)\n",
        "print(model.score(x_test,y_test))"
      ],
      "execution_count": null,
      "outputs": [
        {
          "output_type": "stream",
          "name": "stdout",
          "text": [
            "F1 Score:  0.9474881610775279\n",
            "Accuracy:  0.9982491287264978\n",
            "0.9982491287264978\n"
          ]
        }
      ]
    },
    {
      "cell_type": "markdown",
      "source": [
        "#**Extra Trees Classifier**"
      ],
      "metadata": {
        "id": "YwLwFWpQ1kYo"
      }
    },
    {
      "cell_type": "code",
      "metadata": {
        "colab": {
          "base_uri": "https://localhost:8080/"
        },
        "id": "9QQ7T9RhdE88",
        "outputId": "a121582a-1a26-4d28-89ec-67d6a2066f26"
      },
      "source": [
        "from sklearn.ensemble import ExtraTreesClassifier\n",
        "model = ExtraTreesClassifier()\n",
        "model.fit(x_train,y_train)"
      ],
      "execution_count": null,
      "outputs": [
        {
          "output_type": "execute_result",
          "data": {
            "text/plain": [
              "ExtraTreesClassifier()"
            ]
          },
          "metadata": {},
          "execution_count": 40
        }
      ]
    },
    {
      "cell_type": "code",
      "metadata": {
        "colab": {
          "base_uri": "https://localhost:8080/"
        },
        "id": "1q6gLwgvdE6E",
        "outputId": "f31915c7-b93d-4048-9fe4-7d8cde60c05e"
      },
      "source": [
        "rfy_pred = model.predict(x_test)\n",
        "acc = metrics.accuracy_score(y_test, rfy_pred)\n",
        "print('Accuracy: ', acc)\n",
        "print('F1 Score: ', f1_score(y_test, rfy_pred, average='macro'))\n",
        "print(model.score(x_test,y_test))"
      ],
      "execution_count": null,
      "outputs": [
        {
          "output_type": "stream",
          "name": "stdout",
          "text": [
            "Accuracy:  0.9981742103043353\n",
            "F1 Score:  0.9459132325287506\n",
            "0.9981742103043353\n"
          ]
        }
      ]
    },
    {
      "cell_type": "markdown",
      "source": [
        "#**Gaussian Naive Bayes**"
      ],
      "metadata": {
        "id": "FV1UjcVP4LSr"
      }
    },
    {
      "cell_type": "code",
      "metadata": {
        "id": "OgHqKMl_dE3b"
      },
      "source": [
        "from sklearn.naive_bayes import GaussianNB\n",
        "gnb = GaussianNB()\n",
        "gnb = gnb.fit(x_train, y_train)\n",
        "rfy_pred = gnb.predict(x_test)\n"
      ],
      "execution_count": null,
      "outputs": []
    },
    {
      "cell_type": "code",
      "metadata": {
        "colab": {
          "base_uri": "https://localhost:8080/"
        },
        "id": "s-fTW9oudE00",
        "outputId": "5e085765-7594-4762-a8ec-7d40aa8a782c"
      },
      "source": [
        "acc = metrics.accuracy_score(y_test, rfy_pred)\n",
        "print('Accuracy: ', acc)\n",
        "print('F1 Score: ', f1_score(y_test, rfy_pred, average='macro'))\n",
        "print(model.score(x_test,y_test))"
      ],
      "execution_count": null,
      "outputs": [
        {
          "output_type": "stream",
          "name": "stdout",
          "text": [
            "Accuracy:  0.7471752980088349\n",
            "F1 Score:  0.7319052563191544\n",
            "0.9981742103043353\n"
          ]
        }
      ]
    },
    {
      "cell_type": "markdown",
      "source": [
        "#**Linear Regression**"
      ],
      "metadata": {
        "id": "0aL1nI8U5C6h"
      }
    },
    {
      "cell_type": "code",
      "metadata": {
        "colab": {
          "base_uri": "https://localhost:8080/"
        },
        "id": "x_MY_ZjmdEvj",
        "outputId": "dba30458-507f-4b01-caeb-b5a83a92be14"
      },
      "source": [
        "clf_logistic = LogisticRegression()\n",
        "clf_logistic = clf_logistic.fit(x_train, y_train)\n",
        "\n",
        "rfy_pred = clf_logistic.predict(x_test)\n"
      ],
      "execution_count": null,
      "outputs": [
        {
          "output_type": "stream",
          "name": "stderr",
          "text": [
            "/usr/local/lib/python3.7/dist-packages/sklearn/linear_model/_logistic.py:818: ConvergenceWarning: lbfgs failed to converge (status=1):\n",
            "STOP: TOTAL NO. of ITERATIONS REACHED LIMIT.\n",
            "\n",
            "Increase the number of iterations (max_iter) or scale the data as shown in:\n",
            "    https://scikit-learn.org/stable/modules/preprocessing.html\n",
            "Please also refer to the documentation for alternative solver options:\n",
            "    https://scikit-learn.org/stable/modules/linear_model.html#logistic-regression\n",
            "  extra_warning_msg=_LOGISTIC_SOLVER_CONVERGENCE_MSG,\n"
          ]
        }
      ]
    },
    {
      "cell_type": "code",
      "metadata": {
        "colab": {
          "base_uri": "https://localhost:8080/"
        },
        "id": "93P3AdCQdEtT",
        "outputId": "31469452-42e1-4043-8ec0-d516bbc69a9b"
      },
      "source": [
        "# acc = metrics.accuracy_score(y_test, rfy_pred)\n",
        "print('F1 Score: ', f1_score(y_test, rfy_pred, average='macro'))\n",
        "print('Score: ',clf_logistic.score(x_test,y_test))"
      ],
      "execution_count": null,
      "outputs": [
        {
          "output_type": "stream",
          "name": "stdout",
          "text": [
            "F1 Score:  0.7762083784593259\n",
            "Score:  0.9715171257963551\n"
          ]
        }
      ]
    },
    {
      "cell_type": "markdown",
      "source": [
        "#**Multi-Layered Perceptron (MLP)**"
      ],
      "metadata": {
        "id": "BvFGXnz87poj"
      }
    },
    {
      "cell_type": "code",
      "source": [
        "df = pd.read_csv('/content/gdrive/MyDrive/Final Year Project/fyp-2/Datasets/MachineLearningCVE/20LAC-Big-Training.csv')"
      ],
      "metadata": {
        "id": "rxJHoreoPsBF"
      },
      "execution_count": null,
      "outputs": []
    },
    {
      "cell_type": "code",
      "source": [
        "df[' Label'].value_counts()"
      ],
      "metadata": {
        "colab": {
          "base_uri": "https://localhost:8080/"
        },
        "id": "y11_fFiXBCpw",
        "outputId": "53611674-4e85-43b2-d652-71478080f0a0"
      },
      "execution_count": null,
      "outputs": [
        {
          "output_type": "execute_result",
          "data": {
            "text/plain": [
              "0     1500000\n",
              "14     100000\n",
              "8      100000\n",
              "7      100000\n",
              "4      100000\n",
              "2      100000\n",
              "1        1000\n",
              "Name:  Label, dtype: int64"
            ]
          },
          "metadata": {},
          "execution_count": 19
        }
      ]
    },
    {
      "cell_type": "code",
      "source": [
        "# del df['Unnamed: 0.1']\n",
        "# del df['Unnamed: 0']\n",
        "\n",
        "df.info()"
      ],
      "metadata": {
        "colab": {
          "base_uri": "https://localhost:8080/"
        },
        "id": "vOF2o_TL6XE8",
        "outputId": "bfd76fa9-e45b-4d8f-b22a-976ed16ab319"
      },
      "execution_count": null,
      "outputs": [
        {
          "output_type": "stream",
          "name": "stdout",
          "text": [
            "<class 'pandas.core.frame.DataFrame'>\n",
            "RangeIndex: 2001000 entries, 0 to 2000999\n",
            "Data columns (total 55 columns):\n",
            " #   Column                       Dtype  \n",
            "---  ------                       -----  \n",
            " 0    Destination Port            float64\n",
            " 1    Flow Duration               float64\n",
            " 2    Total Fwd Packets           float64\n",
            " 3    Total Backward Packets      float64\n",
            " 4   Total Length of Fwd Packets  float64\n",
            " 5    Fwd Packet Length Max       float64\n",
            " 6    Fwd Packet Length Min       float64\n",
            " 7    Fwd Packet Length Mean      float64\n",
            " 8    Fwd Packet Length Std       float64\n",
            " 9   Bwd Packet Length Max        float64\n",
            " 10   Bwd Packet Length Min       float64\n",
            " 11   Bwd Packet Length Mean      float64\n",
            " 12   Bwd Packet Length Std       float64\n",
            " 13  Flow Bytes/s                 float64\n",
            " 14   Flow Packets/s              float64\n",
            " 15   Flow IAT Mean               float64\n",
            " 16   Flow IAT Std                float64\n",
            " 17   Flow IAT Max                float64\n",
            " 18   Flow IAT Min                float64\n",
            " 19  Fwd IAT Total                float64\n",
            " 20   Fwd IAT Mean                float64\n",
            " 21   Fwd IAT Std                 float64\n",
            " 22   Fwd IAT Max                 float64\n",
            " 23   Fwd IAT Min                 float64\n",
            " 24  Bwd IAT Total                float64\n",
            " 25   Bwd IAT Max                 float64\n",
            " 26  Fwd PSH Flags                float64\n",
            " 27   Fwd Header Length           float64\n",
            " 28   Bwd Header Length           float64\n",
            " 29  Fwd Packets/s                float64\n",
            " 30   Min Packet Length           float64\n",
            " 31   Max Packet Length           float64\n",
            " 32   Packet Length Mean          float64\n",
            " 33   Packet Length Std           float64\n",
            " 34   Packet Length Variance      float64\n",
            " 35  FIN Flag Count               float64\n",
            " 36   PSH Flag Count              float64\n",
            " 37   ACK Flag Count              float64\n",
            " 38   URG Flag Count              float64\n",
            " 39   Average Packet Size         float64\n",
            " 40   Avg Fwd Segment Size        float64\n",
            " 41   Avg Bwd Segment Size        float64\n",
            " 42  Subflow Fwd Packets          float64\n",
            " 43   Subflow Fwd Bytes           float64\n",
            " 44   Subflow Bwd Packets         float64\n",
            " 45   Subflow Bwd Bytes           float64\n",
            " 46  Init_Win_bytes_forward       float64\n",
            " 47   Init_Win_bytes_backward     float64\n",
            " 48   act_data_pkt_fwd            float64\n",
            " 49   min_seg_size_forward        float64\n",
            " 50  Idle Mean                    float64\n",
            " 51   Idle Std                    float64\n",
            " 52   Idle Max                    float64\n",
            " 53   Idle Min                    float64\n",
            " 54   Label                       uint8  \n",
            "dtypes: float64(54), uint8(1)\n",
            "memory usage: 826.3 MB\n"
          ]
        }
      ]
    },
    {
      "cell_type": "code",
      "source": [
        "df[' Label'].value_counts()\n"
      ],
      "metadata": {
        "colab": {
          "base_uri": "https://localhost:8080/"
        },
        "id": "yxWAHbahBOw_",
        "outputId": "b47b138f-d069-4234-d109-8999657b1abd"
      },
      "execution_count": null,
      "outputs": [
        {
          "output_type": "execute_result",
          "data": {
            "text/plain": [
              "0     1500000\n",
              "14     100000\n",
              "8      100000\n",
              "7      100000\n",
              "4      100000\n",
              "2      100000\n",
              "1        1000\n",
              "Name:  Label, dtype: int64"
            ]
          },
          "metadata": {},
          "execution_count": 13
        }
      ]
    },
    {
      "cell_type": "code",
      "source": [
        "def dpna(df):\n",
        "    # df.replace([np.inf, -np.inf], np.nan).dropna(axis=1)\n",
        "    df.replace([np.inf, -np.inf], np.nan, inplace=True)\n",
        "    # Dropping all the rows with nan valuess\n",
        "    df.dropna(inplace=True)\n",
        "    return df\n",
        "\n",
        "# -------------------checking datatypes\n",
        "\n",
        "def check_size_dtypes(df):\n",
        "\n",
        "    max = df.max()\n",
        "    print(max, 'max')\n",
        "\n",
        "    min = df.min()\n",
        "    print(min, 'min')\n",
        "    # print(df.value_counts())\n",
        "    var1 = df.memory_usage(index=False, deep=True)\n",
        "    print(var1, 'This is the memory usage')\n",
        "    print(df.sample(8))\n",
        "\n",
        "# -------------------changing datatypes\n",
        "\n",
        "def convert_datatypes(df, a='uint8'):\n",
        "    print('Trying to convert datatypes for less memory usage')\n",
        "    max = df.max()\n",
        "    print(max, 'max')\n",
        "\n",
        "    min = df.min()\n",
        "    print(min, 'min')\n",
        "\n",
        "    # print(df.value_counts())\n",
        "\n",
        "    var1 = df.memory_usage(index=False, deep=True)\n",
        "    print(var1, 'memory usage')\n",
        "    df = df.astype(a, errors='ignore')\n",
        "    print(\"[ ----- Changed Datatypes to 'uint8' ----- ]\")\n",
        "    var2 = df.memory_usage(index=False, deep=True)\n",
        "    print(var2, ' new memory usage| the difference -> ', var1 / var2)\n",
        "    return df\n",
        "\n",
        "def normalize(df):\n",
        "    print(\"[* ] - Normalized data\")\n",
        "    normalized_df = ((df - df.min()) /\n",
        "                      (df.max() - df.min())) * 225\n",
        "    return normalized_df"
      ],
      "metadata": {
        "id": "HINWk1fmSK7B"
      },
      "execution_count": null,
      "outputs": []
    },
    {
      "cell_type": "code",
      "source": [
        "# dpna(df)\n",
        "# check_size_dtypes(df)\n",
        "# convert_datatypes(df, a='uint8')\n",
        "# normalize(df)\n",
        "df = df.astype('uint8', errors='ignore')"
      ],
      "metadata": {
        "id": "xjl0zBIpSOL-"
      },
      "execution_count": null,
      "outputs": []
    },
    {
      "cell_type": "code",
      "source": [
        "df[' Label'].value_counts()"
      ],
      "metadata": {
        "colab": {
          "base_uri": "https://localhost:8080/"
        },
        "id": "M_gubyAANL_G",
        "outputId": "8a3bb0ba-753d-4acb-ebee-ee23bc7afdd9"
      },
      "execution_count": null,
      "outputs": [
        {
          "output_type": "execute_result",
          "data": {
            "text/plain": [
              "0     1500000\n",
              "14     100000\n",
              "8      100000\n",
              "7      100000\n",
              "4      100000\n",
              "2      100000\n",
              "1        1000\n",
              "Name:  Label, dtype: int64"
            ]
          },
          "metadata": {},
          "execution_count": 27
        }
      ]
    },
    {
      "cell_type": "code",
      "metadata": {
        "id": "Tu1hXGp2ZROC"
      },
      "source": [
        "from sklearn.preprocessing import LabelEncoder\n",
        "\n",
        "# df.replace([np.inf, -np.inf], np.nan, inplace=True)\n",
        "# # Dropping all the rows with nan values\n",
        "# df.dropna(inplace=True)\n",
        "\n",
        "le = LabelEncoder()\n",
        "Y=df[' Label']\n",
        "# len(Y)\n",
        "X=df.iloc[:,:-1]"
      ],
      "execution_count": null,
      "outputs": []
    },
    {
      "cell_type": "code",
      "metadata": {
        "colab": {
          "base_uri": "https://localhost:8080/"
        },
        "id": "q6BuX0K4ZRRM",
        "outputId": "554aff12-33b7-44cf-9dab-6478dc0d1cd5"
      },
      "source": [
        "x_train, x_test, y_train, y_test = train_test_split(X, Y, test_size = 0.35, random_state = 42)\n",
        "print(x_train.shape,len(y_train),x_test.shape,len(y_test))\n",
        "len(x_train.columns)"
      ],
      "execution_count": null,
      "outputs": [
        {
          "output_type": "stream",
          "name": "stdout",
          "text": [
            "(1300650, 54) 1300650 (700350, 54) 700350\n"
          ]
        },
        {
          "output_type": "execute_result",
          "data": {
            "text/plain": [
              "54"
            ]
          },
          "metadata": {},
          "execution_count": 22
        }
      ]
    },
    {
      "cell_type": "code",
      "metadata": {
        "colab": {
          "base_uri": "https://localhost:8080/"
        },
        "id": "xwhvIT9XZRTy",
        "outputId": "d2b103c9-7540-4ae5-98c2-a870b8c9a027"
      },
      "source": [
        "df[' Label'].value_counts()"
      ],
      "execution_count": null,
      "outputs": [
        {
          "output_type": "execute_result",
          "data": {
            "text/plain": [
              "0     1500000\n",
              "14     100000\n",
              "8      100000\n",
              "7      100000\n",
              "4      100000\n",
              "2      100000\n",
              "1        1000\n",
              "Name:  Label, dtype: int64"
            ]
          },
          "metadata": {},
          "execution_count": 23
        }
      ]
    },
    {
      "cell_type": "code",
      "source": [
        "df.shape"
      ],
      "metadata": {
        "colab": {
          "base_uri": "https://localhost:8080/"
        },
        "id": "VBhe5LeYRk3C",
        "outputId": "e5025ec1-64ac-41d0-e06b-05e86e3b30b4"
      },
      "execution_count": null,
      "outputs": [
        {
          "output_type": "execute_result",
          "data": {
            "text/plain": [
              "(2001000, 55)"
            ]
          },
          "metadata": {},
          "execution_count": 24
        }
      ]
    },
    {
      "cell_type": "code",
      "source": [
        "print(y_train.shape, y_test.shape)"
      ],
      "metadata": {
        "colab": {
          "base_uri": "https://localhost:8080/"
        },
        "id": "rPFuGnA1RwAh",
        "outputId": "d329a045-c84c-4e77-b016-982a79085ad6"
      },
      "execution_count": null,
      "outputs": [
        {
          "output_type": "stream",
          "name": "stdout",
          "text": [
            "(1171271,) (630685,)\n"
          ]
        }
      ]
    },
    {
      "cell_type": "code",
      "metadata": {
        "id": "T39DBkSedEn8"
      },
      "source": [
        "# Imports\n",
        "import tensorflow\n",
        "# from tensorflow.keras.datasets import mnist\n",
        "from tensorflow.keras.models import Sequential\n",
        "from tensorflow.keras.layers import Dense\n",
        "from tensorflow.keras.utils import to_categorical\n",
        "from tensorflow import keras\n",
        "from tensorflow.keras import layers\n",
        "\n",
        "# Configuration options\n",
        "feature_vector_length = 55\n",
        "num_classes = 7\n",
        "\n",
        "\n",
        "\n",
        "Y_train = to_categorical(y_train, num_classes)\n",
        "Y_test = to_categorical(y_test, num_classes)\n",
        "\n"
      ],
      "execution_count": null,
      "outputs": []
    },
    {
      "cell_type": "code",
      "metadata": {
        "colab": {
          "base_uri": "https://localhost:8080/"
        },
        "id": "lvCA2RSeM2lJ",
        "outputId": "f9db4991-0a17-481e-aea8-c9e085d4ced3"
      },
      "source": [
        "num_classes"
      ],
      "execution_count": null,
      "outputs": [
        {
          "output_type": "execute_result",
          "data": {
            "text/plain": [
              "4"
            ]
          },
          "metadata": {},
          "execution_count": 52
        }
      ]
    },
    {
      "cell_type": "code",
      "metadata": {
        "colab": {
          "base_uri": "https://localhost:8080/"
        },
        "id": "LU4Obm1VBpLQ",
        "outputId": "e9f476ac-d73e-4a13-dc8a-98cce895ddde"
      },
      "source": [
        "# Set the input shape\n",
        "input_shape = (feature_vector_length,)\n",
        "print(f'Feature shape: {input_shape}')\n",
        "\n",
        "# Create the model\n",
        "model = Sequential()\n",
        "model.add(Input(shape=(55 )))\n",
        "\n",
        "model.add(Dense(28, activation='relu'))\n",
        "model.add(Dropout(0.2))\n",
        "\n",
        "model.add(Dense(14, activation='relu'))\n",
        "model.add(Dropout(0.2))\n",
        "\n",
        "model.add(Dense(7, activation='relu'))\n",
        "model.add(Dropout(0.2))\n",
        "\n",
        "model.add(Dense(num_classes, activation='softmax'))\n",
        "\n"
      ],
      "execution_count": null,
      "outputs": [
        {
          "output_type": "stream",
          "name": "stdout",
          "text": [
            "Feature shape: (55,)\n"
          ]
        }
      ]
    },
    {
      "cell_type": "code",
      "source": [
        "model.summary()"
      ],
      "metadata": {
        "colab": {
          "base_uri": "https://localhost:8080/"
        },
        "id": "T-Vfyy31cyiA",
        "outputId": "cd2eda11-138e-46a1-d9fc-fc59cfecf20b"
      },
      "execution_count": null,
      "outputs": [
        {
          "output_type": "stream",
          "name": "stdout",
          "text": [
            "Model: \"sequential\"\n",
            "_________________________________________________________________\n",
            " Layer (type)                Output Shape              Param #   \n",
            "=================================================================\n",
            " dense (Dense)               (None, 28)                1568      \n",
            "                                                                 \n",
            " dropout (Dropout)           (None, 28)                0         \n",
            "                                                                 \n",
            " dense_1 (Dense)             (None, 14)                406       \n",
            "                                                                 \n",
            " dropout_1 (Dropout)         (None, 14)                0         \n",
            "                                                                 \n",
            " dense_2 (Dense)             (None, 7)                 105       \n",
            "                                                                 \n",
            " dropout_2 (Dropout)         (None, 7)                 0         \n",
            "                                                                 \n",
            " dense_3 (Dense)             (None, 4)                 32        \n",
            "                                                                 \n",
            "=================================================================\n",
            "Total params: 2,111\n",
            "Trainable params: 2,111\n",
            "Non-trainable params: 0\n",
            "_________________________________________________________________\n"
          ]
        }
      ]
    },
    {
      "cell_type": "code",
      "metadata": {
        "id": "hWPudv53FjDd",
        "colab": {
          "base_uri": "https://localhost:8080/"
        },
        "outputId": "953e9261-b046-4913-fd73-481acaf63ad0"
      },
      "source": [
        "type(x_train)"
      ],
      "execution_count": null,
      "outputs": [
        {
          "output_type": "execute_result",
          "data": {
            "text/plain": [
              "pandas.core.frame.DataFrame"
            ]
          },
          "metadata": {},
          "execution_count": 55
        }
      ]
    },
    {
      "cell_type": "code",
      "metadata": {
        "colab": {
          "base_uri": "https://localhost:8080/"
        },
        "id": "X7xreb0XBpN2",
        "outputId": "098b2bac-2dff-4b2a-bed1-6c17669b6ce1"
      },
      "source": [
        "# Configure the model and start training\n",
        "model.compile(loss='categorical_crossentropy', optimizer='adam', metrics=['accuracy', 'mse'])\n",
        "model.fit(x_train, Y_train, epochs=100, batch_size=64, verbose=1, validation_data=(x_test, Y_test))\n",
        "\n",
        "# Test the model after training\n",
        "test_results = model.evaluate(x_test, Y_test, verbose=1)\n",
        "print(f'Test results - Loss: {test_results[0]} - Accuracy: {test_results[1]}%')"
      ],
      "execution_count": null,
      "outputs": [
        {
          "output_type": "stream",
          "name": "stdout",
          "text": [
            "Epoch 1/100\n",
            "8125/8125 [==============================] - 20s 2ms/step - loss: 0.1034 - accuracy: 0.9702 - mse: 0.0116 - val_loss: 0.0392 - val_accuracy: 0.9916 - val_mse: 0.0034\n",
            "Epoch 2/100\n",
            "8125/8125 [==============================] - 20s 2ms/step - loss: 0.0932 - accuracy: 0.9732 - mse: 0.0104 - val_loss: 0.0365 - val_accuracy: 0.9927 - val_mse: 0.0031\n",
            "Epoch 3/100\n",
            "8125/8125 [==============================] - 22s 3ms/step - loss: 0.0871 - accuracy: 0.9750 - mse: 0.0098 - val_loss: 0.0503 - val_accuracy: 0.9939 - val_mse: 0.0026\n",
            "Epoch 4/100\n",
            "8125/8125 [==============================] - 21s 3ms/step - loss: 0.0865 - accuracy: 0.9752 - mse: 0.0097 - val_loss: 0.0291 - val_accuracy: 0.9934 - val_mse: 0.0026\n",
            "Epoch 5/100\n",
            "8125/8125 [==============================] - 22s 3ms/step - loss: 0.0808 - accuracy: 0.9774 - mse: 0.0089 - val_loss: 0.0250 - val_accuracy: 0.9935 - val_mse: 0.0026\n",
            "Epoch 6/100\n",
            "8125/8125 [==============================] - 20s 2ms/step - loss: 0.0779 - accuracy: 0.9782 - mse: 0.0087 - val_loss: 0.0280 - val_accuracy: 0.9932 - val_mse: 0.0025\n",
            "Epoch 7/100\n",
            "8125/8125 [==============================] - 21s 3ms/step - loss: 0.0758 - accuracy: 0.9786 - mse: 0.0084 - val_loss: 0.0258 - val_accuracy: 0.9937 - val_mse: 0.0025\n",
            "Epoch 8/100\n",
            "8125/8125 [==============================] - 20s 3ms/step - loss: 0.0767 - accuracy: 0.9791 - mse: 0.0083 - val_loss: 0.0277 - val_accuracy: 0.9937 - val_mse: 0.0025\n",
            "Epoch 9/100\n",
            "8125/8125 [==============================] - 20s 2ms/step - loss: 0.0761 - accuracy: 0.9792 - mse: 0.0083 - val_loss: 0.0261 - val_accuracy: 0.9936 - val_mse: 0.0025\n",
            "Epoch 10/100\n",
            "8125/8125 [==============================] - 21s 3ms/step - loss: 0.0747 - accuracy: 0.9799 - mse: 0.0080 - val_loss: 0.0251 - val_accuracy: 0.9938 - val_mse: 0.0024\n",
            "Epoch 11/100\n",
            "8125/8125 [==============================] - 20s 3ms/step - loss: 0.0750 - accuracy: 0.9795 - mse: 0.0082 - val_loss: 0.0251 - val_accuracy: 0.9928 - val_mse: 0.0027\n",
            "Epoch 12/100\n",
            "8125/8125 [==============================] - 20s 2ms/step - loss: 0.0700 - accuracy: 0.9805 - mse: 0.0077 - val_loss: 0.0383 - val_accuracy: 0.9933 - val_mse: 0.0026\n",
            "Epoch 13/100\n",
            "8125/8125 [==============================] - 21s 3ms/step - loss: 0.0730 - accuracy: 0.9795 - mse: 0.0081 - val_loss: 0.0238 - val_accuracy: 0.9935 - val_mse: 0.0024\n",
            "Epoch 14/100\n",
            "8125/8125 [==============================] - 20s 2ms/step - loss: 0.0788 - accuracy: 0.9777 - mse: 0.0087 - val_loss: 0.0257 - val_accuracy: 0.9944 - val_mse: 0.0023\n",
            "Epoch 15/100\n",
            "8125/8125 [==============================] - 20s 2ms/step - loss: 0.0749 - accuracy: 0.9784 - mse: 0.0084 - val_loss: 0.0386 - val_accuracy: 0.9944 - val_mse: 0.0023\n",
            "Epoch 16/100\n",
            "8125/8125 [==============================] - 21s 3ms/step - loss: 0.0775 - accuracy: 0.9783 - mse: 0.0085 - val_loss: 0.0256 - val_accuracy: 0.9945 - val_mse: 0.0026\n",
            "Epoch 17/100\n",
            "8125/8125 [==============================] - 20s 3ms/step - loss: 0.0786 - accuracy: 0.9782 - mse: 0.0086 - val_loss: 0.0242 - val_accuracy: 0.9941 - val_mse: 0.0025\n",
            "Epoch 18/100\n",
            "8125/8125 [==============================] - 20s 2ms/step - loss: 0.0756 - accuracy: 0.9787 - mse: 0.0084 - val_loss: 0.0326 - val_accuracy: 0.9934 - val_mse: 0.0029\n",
            "Epoch 19/100\n",
            "8125/8125 [==============================] - 19s 2ms/step - loss: 0.0762 - accuracy: 0.9783 - mse: 0.0085 - val_loss: 0.0272 - val_accuracy: 0.9940 - val_mse: 0.0026\n",
            "Epoch 20/100\n",
            "8125/8125 [==============================] - 19s 2ms/step - loss: 0.0749 - accuracy: 0.9791 - mse: 0.0083 - val_loss: 0.0248 - val_accuracy: 0.9942 - val_mse: 0.0025\n",
            "Epoch 21/100\n",
            "8125/8125 [==============================] - 19s 2ms/step - loss: 0.0787 - accuracy: 0.9789 - mse: 0.0084 - val_loss: 0.0259 - val_accuracy: 0.9909 - val_mse: 0.0029\n",
            "Epoch 22/100\n",
            "8125/8125 [==============================] - 20s 3ms/step - loss: 0.0781 - accuracy: 0.9787 - mse: 0.0085 - val_loss: 0.0289 - val_accuracy: 0.9897 - val_mse: 0.0037\n",
            "Epoch 23/100\n",
            "8125/8125 [==============================] - 20s 2ms/step - loss: 0.0755 - accuracy: 0.9793 - mse: 0.0082 - val_loss: 0.0273 - val_accuracy: 0.9934 - val_mse: 0.0028\n",
            "Epoch 24/100\n",
            "8125/8125 [==============================] - 20s 3ms/step - loss: 0.0777 - accuracy: 0.9800 - mse: 0.0079 - val_loss: 0.0247 - val_accuracy: 0.9929 - val_mse: 0.0025\n",
            "Epoch 25/100\n",
            "8125/8125 [==============================] - 21s 3ms/step - loss: 0.0709 - accuracy: 0.9805 - mse: 0.0077 - val_loss: 0.0252 - val_accuracy: 0.9916 - val_mse: 0.0028\n",
            "Epoch 26/100\n",
            "8125/8125 [==============================] - 21s 3ms/step - loss: 0.0741 - accuracy: 0.9797 - mse: 0.0081 - val_loss: 0.0242 - val_accuracy: 0.9934 - val_mse: 0.0024\n",
            "Epoch 27/100\n",
            "8125/8125 [==============================] - 20s 2ms/step - loss: 0.0703 - accuracy: 0.9807 - mse: 0.0076 - val_loss: 0.0221 - val_accuracy: 0.9945 - val_mse: 0.0021\n",
            "Epoch 28/100\n",
            "8125/8125 [==============================] - 21s 3ms/step - loss: 0.0746 - accuracy: 0.9793 - mse: 0.0082 - val_loss: 0.0313 - val_accuracy: 0.9917 - val_mse: 0.0030\n",
            "Epoch 29/100\n",
            "8125/8125 [==============================] - 20s 2ms/step - loss: 0.0752 - accuracy: 0.9800 - mse: 0.0079 - val_loss: 0.0310 - val_accuracy: 0.9942 - val_mse: 0.0025\n",
            "Epoch 30/100\n",
            "8125/8125 [==============================] - 21s 3ms/step - loss: 0.0737 - accuracy: 0.9809 - mse: 0.0076 - val_loss: 0.0261 - val_accuracy: 0.9934 - val_mse: 0.0026\n",
            "Epoch 31/100\n",
            "8125/8125 [==============================] - 19s 2ms/step - loss: 0.0721 - accuracy: 0.9802 - mse: 0.0079 - val_loss: 0.0475 - val_accuracy: 0.9889 - val_mse: 0.0034\n",
            "Epoch 32/100\n",
            "8125/8125 [==============================] - 21s 3ms/step - loss: 0.0716 - accuracy: 0.9806 - mse: 0.0077 - val_loss: 0.0250 - val_accuracy: 0.9937 - val_mse: 0.0027\n",
            "Epoch 33/100\n",
            "8125/8125 [==============================] - 20s 2ms/step - loss: 0.0724 - accuracy: 0.9801 - mse: 0.0079 - val_loss: 0.0273 - val_accuracy: 0.9901 - val_mse: 0.0030\n",
            "Epoch 34/100\n",
            "8125/8125 [==============================] - 20s 2ms/step - loss: 0.0709 - accuracy: 0.9803 - mse: 0.0078 - val_loss: 0.0258 - val_accuracy: 0.9902 - val_mse: 0.0030\n",
            "Epoch 35/100\n",
            "8125/8125 [==============================] - 20s 2ms/step - loss: 0.0764 - accuracy: 0.9809 - mse: 0.0076 - val_loss: 0.0254 - val_accuracy: 0.9899 - val_mse: 0.0030\n",
            "Epoch 36/100\n",
            "8125/8125 [==============================] - 19s 2ms/step - loss: 0.0703 - accuracy: 0.9805 - mse: 0.0078 - val_loss: 0.0245 - val_accuracy: 0.9907 - val_mse: 0.0028\n",
            "Epoch 37/100\n",
            "8125/8125 [==============================] - 21s 3ms/step - loss: 0.0725 - accuracy: 0.9809 - mse: 0.0076 - val_loss: 0.0285 - val_accuracy: 0.9892 - val_mse: 0.0034\n",
            "Epoch 38/100\n",
            "8125/8125 [==============================] - 21s 3ms/step - loss: 0.0710 - accuracy: 0.9802 - mse: 0.0077 - val_loss: 0.0196 - val_accuracy: 0.9949 - val_mse: 0.0019\n",
            "Epoch 39/100\n",
            "8125/8125 [==============================] - 20s 2ms/step - loss: 0.0740 - accuracy: 0.9811 - mse: 0.0074 - val_loss: 0.0309 - val_accuracy: 0.9900 - val_mse: 0.0031\n",
            "Epoch 40/100\n",
            "8125/8125 [==============================] - 21s 3ms/step - loss: 0.0747 - accuracy: 0.9796 - mse: 0.0080 - val_loss: 0.0248 - val_accuracy: 0.9937 - val_mse: 0.0026\n",
            "Epoch 41/100\n",
            "8125/8125 [==============================] - 19s 2ms/step - loss: 0.0641 - accuracy: 0.9817 - mse: 0.0071 - val_loss: 0.0329 - val_accuracy: 0.9902 - val_mse: 0.0026\n",
            "Epoch 42/100\n",
            "8125/8125 [==============================] - 20s 2ms/step - loss: 0.0690 - accuracy: 0.9808 - mse: 0.0076 - val_loss: 0.0242 - val_accuracy: 0.9942 - val_mse: 0.0024\n",
            "Epoch 43/100\n",
            "8125/8125 [==============================] - 20s 2ms/step - loss: 0.0674 - accuracy: 0.9817 - mse: 0.0072 - val_loss: 0.0230 - val_accuracy: 0.9940 - val_mse: 0.0022\n",
            "Epoch 44/100\n",
            "8125/8125 [==============================] - 20s 3ms/step - loss: 0.0660 - accuracy: 0.9824 - mse: 0.0070 - val_loss: 0.0197 - val_accuracy: 0.9943 - val_mse: 0.0019\n",
            "Epoch 45/100\n",
            "8125/8125 [==============================] - 21s 3ms/step - loss: 0.0613 - accuracy: 0.9822 - mse: 0.0069 - val_loss: 0.0225 - val_accuracy: 0.9944 - val_mse: 0.0023\n",
            "Epoch 46/100\n",
            "8125/8125 [==============================] - 20s 2ms/step - loss: 0.0625 - accuracy: 0.9825 - mse: 0.0069 - val_loss: 0.0244 - val_accuracy: 0.9927 - val_mse: 0.0027\n",
            "Epoch 47/100\n",
            "8125/8125 [==============================] - 19s 2ms/step - loss: 0.0683 - accuracy: 0.9811 - mse: 0.0074 - val_loss: 0.0241 - val_accuracy: 0.9938 - val_mse: 0.0024\n",
            "Epoch 48/100\n",
            "8125/8125 [==============================] - 19s 2ms/step - loss: 0.0622 - accuracy: 0.9826 - mse: 0.0068 - val_loss: 0.0282 - val_accuracy: 0.9901 - val_mse: 0.0034\n",
            "Epoch 49/100\n",
            "8125/8125 [==============================] - 20s 3ms/step - loss: 0.0664 - accuracy: 0.9821 - mse: 0.0070 - val_loss: 0.0304 - val_accuracy: 0.9893 - val_mse: 0.0033\n",
            "Epoch 50/100\n",
            "8125/8125 [==============================] - 21s 3ms/step - loss: 0.0616 - accuracy: 0.9825 - mse: 0.0069 - val_loss: 0.0211 - val_accuracy: 0.9902 - val_mse: 0.0026\n",
            "Epoch 51/100\n",
            "8125/8125 [==============================] - 19s 2ms/step - loss: 0.0622 - accuracy: 0.9825 - mse: 0.0068 - val_loss: 0.0202 - val_accuracy: 0.9944 - val_mse: 0.0022\n",
            "Epoch 52/100\n",
            "8125/8125 [==============================] - 21s 3ms/step - loss: 0.0651 - accuracy: 0.9827 - mse: 0.0068 - val_loss: 0.0237 - val_accuracy: 0.9900 - val_mse: 0.0027\n",
            "Epoch 53/100\n",
            "8125/8125 [==============================] - 20s 2ms/step - loss: 0.0613 - accuracy: 0.9826 - mse: 0.0068 - val_loss: 0.0207 - val_accuracy: 0.9947 - val_mse: 0.0021\n",
            "Epoch 54/100\n",
            "8125/8125 [==============================] - 20s 2ms/step - loss: 0.0633 - accuracy: 0.9822 - mse: 0.0070 - val_loss: 0.0209 - val_accuracy: 0.9944 - val_mse: 0.0023\n",
            "Epoch 55/100\n",
            "8125/8125 [==============================] - 20s 2ms/step - loss: 0.0627 - accuracy: 0.9825 - mse: 0.0068 - val_loss: 0.0201 - val_accuracy: 0.9946 - val_mse: 0.0020\n",
            "Epoch 56/100\n",
            "8125/8125 [==============================] - 21s 3ms/step - loss: 0.0628 - accuracy: 0.9826 - mse: 0.0068 - val_loss: 0.0228 - val_accuracy: 0.9913 - val_mse: 0.0025\n",
            "Epoch 57/100\n",
            "8125/8125 [==============================] - 19s 2ms/step - loss: 0.0635 - accuracy: 0.9824 - mse: 0.0069 - val_loss: 0.0239 - val_accuracy: 0.9943 - val_mse: 0.0022\n",
            "Epoch 58/100\n",
            "8125/8125 [==============================] - 20s 2ms/step - loss: 0.0618 - accuracy: 0.9825 - mse: 0.0068 - val_loss: 0.0233 - val_accuracy: 0.9939 - val_mse: 0.0024\n",
            "Epoch 59/100\n",
            "8125/8125 [==============================] - 20s 2ms/step - loss: 0.0686 - accuracy: 0.9829 - mse: 0.0067 - val_loss: 0.0202 - val_accuracy: 0.9945 - val_mse: 0.0021\n",
            "Epoch 60/100\n",
            "8125/8125 [==============================] - 20s 2ms/step - loss: 0.0612 - accuracy: 0.9827 - mse: 0.0068 - val_loss: 0.0195 - val_accuracy: 0.9944 - val_mse: 0.0021\n",
            "Epoch 61/100\n",
            "8125/8125 [==============================] - 21s 3ms/step - loss: 0.0609 - accuracy: 0.9830 - mse: 0.0067 - val_loss: 0.0200 - val_accuracy: 0.9943 - val_mse: 0.0020\n",
            "Epoch 62/100\n",
            "8125/8125 [==============================] - 21s 3ms/step - loss: 0.0623 - accuracy: 0.9827 - mse: 0.0067 - val_loss: 0.0208 - val_accuracy: 0.9934 - val_mse: 0.0024\n",
            "Epoch 63/100\n",
            "8125/8125 [==============================] - 21s 3ms/step - loss: 0.0574 - accuracy: 0.9836 - mse: 0.0064 - val_loss: 0.0205 - val_accuracy: 0.9942 - val_mse: 0.0021\n",
            "Epoch 64/100\n",
            "8125/8125 [==============================] - 20s 2ms/step - loss: 0.0616 - accuracy: 0.9832 - mse: 0.0067 - val_loss: 0.0222 - val_accuracy: 0.9946 - val_mse: 0.0022\n",
            "Epoch 65/100\n",
            "8125/8125 [==============================] - 21s 3ms/step - loss: 0.0612 - accuracy: 0.9830 - mse: 0.0067 - val_loss: 0.0214 - val_accuracy: 0.9929 - val_mse: 0.0023\n",
            "Epoch 66/100\n",
            "8125/8125 [==============================] - 20s 2ms/step - loss: 0.0613 - accuracy: 0.9829 - mse: 0.0068 - val_loss: 0.0254 - val_accuracy: 0.9923 - val_mse: 0.0028\n",
            "Epoch 67/100\n",
            "8125/8125 [==============================] - 21s 3ms/step - loss: 0.0604 - accuracy: 0.9834 - mse: 0.0066 - val_loss: 0.0204 - val_accuracy: 0.9946 - val_mse: 0.0022\n",
            "Epoch 68/100\n",
            "8125/8125 [==============================] - 20s 3ms/step - loss: 0.0618 - accuracy: 0.9831 - mse: 0.0067 - val_loss: 0.0208 - val_accuracy: 0.9946 - val_mse: 0.0022\n",
            "Epoch 69/100\n",
            "8125/8125 [==============================] - 20s 2ms/step - loss: 0.0610 - accuracy: 0.9832 - mse: 0.0066 - val_loss: 0.0276 - val_accuracy: 0.9949 - val_mse: 0.0021\n",
            "Epoch 70/100\n",
            "8125/8125 [==============================] - 20s 3ms/step - loss: 0.0582 - accuracy: 0.9832 - mse: 0.0066 - val_loss: 0.0214 - val_accuracy: 0.9904 - val_mse: 0.0025\n",
            "Epoch 71/100\n",
            "8125/8125 [==============================] - 21s 3ms/step - loss: 0.0622 - accuracy: 0.9829 - mse: 0.0067 - val_loss: 0.0234 - val_accuracy: 0.9945 - val_mse: 0.0023\n",
            "Epoch 72/100\n",
            "8125/8125 [==============================] - 20s 2ms/step - loss: 0.0587 - accuracy: 0.9832 - mse: 0.0066 - val_loss: 0.0204 - val_accuracy: 0.9945 - val_mse: 0.0021\n",
            "Epoch 73/100\n",
            "8125/8125 [==============================] - 20s 2ms/step - loss: 0.0608 - accuracy: 0.9832 - mse: 0.0066 - val_loss: 0.0203 - val_accuracy: 0.9925 - val_mse: 0.0024\n",
            "Epoch 74/100\n",
            "8125/8125 [==============================] - 20s 2ms/step - loss: 0.0617 - accuracy: 0.9832 - mse: 0.0066 - val_loss: 0.0623 - val_accuracy: 0.9914 - val_mse: 0.0024\n",
            "Epoch 75/100\n",
            "8125/8125 [==============================] - 20s 2ms/step - loss: 0.0593 - accuracy: 0.9835 - mse: 0.0065 - val_loss: 0.0190 - val_accuracy: 0.9944 - val_mse: 0.0020\n",
            "Epoch 76/100\n",
            "8125/8125 [==============================] - 21s 3ms/step - loss: 0.0588 - accuracy: 0.9838 - mse: 0.0064 - val_loss: 0.0330 - val_accuracy: 0.9935 - val_mse: 0.0027\n",
            "Epoch 77/100\n",
            "8125/8125 [==============================] - 20s 2ms/step - loss: 0.0618 - accuracy: 0.9829 - mse: 0.0067 - val_loss: 0.0229 - val_accuracy: 0.9927 - val_mse: 0.0025\n",
            "Epoch 78/100\n",
            "8125/8125 [==============================] - 21s 3ms/step - loss: 0.0568 - accuracy: 0.9839 - mse: 0.0064 - val_loss: 0.0202 - val_accuracy: 0.9946 - val_mse: 0.0020\n",
            "Epoch 79/100\n",
            "8125/8125 [==============================] - 20s 2ms/step - loss: 0.0600 - accuracy: 0.9834 - mse: 0.0066 - val_loss: 0.0195 - val_accuracy: 0.9945 - val_mse: 0.0019\n",
            "Epoch 80/100\n",
            "8125/8125 [==============================] - 20s 2ms/step - loss: 0.0596 - accuracy: 0.9833 - mse: 0.0065 - val_loss: 0.0202 - val_accuracy: 0.9947 - val_mse: 0.0021\n",
            "Epoch 81/100\n",
            "8125/8125 [==============================] - 20s 2ms/step - loss: 0.0578 - accuracy: 0.9838 - mse: 0.0064 - val_loss: 0.0234 - val_accuracy: 0.9947 - val_mse: 0.0020\n",
            "Epoch 82/100\n",
            "8125/8125 [==============================] - 21s 3ms/step - loss: 0.0583 - accuracy: 0.9841 - mse: 0.0063 - val_loss: 0.0249 - val_accuracy: 0.9889 - val_mse: 0.0033\n",
            "Epoch 83/100\n",
            "8125/8125 [==============================] - 20s 2ms/step - loss: 0.0570 - accuracy: 0.9836 - mse: 0.0064 - val_loss: 0.0421 - val_accuracy: 0.9939 - val_mse: 0.0024\n",
            "Epoch 84/100\n",
            "8125/8125 [==============================] - 21s 3ms/step - loss: 0.0570 - accuracy: 0.9841 - mse: 0.0063 - val_loss: 0.0214 - val_accuracy: 0.9939 - val_mse: 0.0023\n",
            "Epoch 85/100\n",
            "8125/8125 [==============================] - 20s 3ms/step - loss: 0.0567 - accuracy: 0.9841 - mse: 0.0063 - val_loss: 0.0227 - val_accuracy: 0.9947 - val_mse: 0.0025\n",
            "Epoch 86/100\n",
            "8125/8125 [==============================] - 20s 2ms/step - loss: 0.0591 - accuracy: 0.9838 - mse: 0.0064 - val_loss: 0.0198 - val_accuracy: 0.9944 - val_mse: 0.0021\n",
            "Epoch 87/100\n",
            "8125/8125 [==============================] - 21s 3ms/step - loss: 0.0567 - accuracy: 0.9845 - mse: 0.0061 - val_loss: 0.0189 - val_accuracy: 0.9946 - val_mse: 0.0020\n",
            "Epoch 88/100\n",
            "8125/8125 [==============================] - 21s 3ms/step - loss: 0.0566 - accuracy: 0.9841 - mse: 0.0063 - val_loss: 0.0214 - val_accuracy: 0.9944 - val_mse: 0.0022\n",
            "Epoch 89/100\n",
            "8125/8125 [==============================] - 21s 3ms/step - loss: 0.0603 - accuracy: 0.9843 - mse: 0.0062 - val_loss: 0.0233 - val_accuracy: 0.9890 - val_mse: 0.0028\n",
            "Epoch 90/100\n",
            "8125/8125 [==============================] - 21s 3ms/step - loss: 0.0644 - accuracy: 0.9836 - mse: 0.0064 - val_loss: 0.0207 - val_accuracy: 0.9944 - val_mse: 0.0022\n",
            "Epoch 91/100\n",
            "8125/8125 [==============================] - 20s 2ms/step - loss: 0.0583 - accuracy: 0.9843 - mse: 0.0062 - val_loss: 0.0194 - val_accuracy: 0.9949 - val_mse: 0.0019\n",
            "Epoch 92/100\n",
            "8125/8125 [==============================] - 20s 3ms/step - loss: 0.0558 - accuracy: 0.9843 - mse: 0.0062 - val_loss: 0.0200 - val_accuracy: 0.9948 - val_mse: 0.0020\n",
            "Epoch 93/100\n",
            "8125/8125 [==============================] - 21s 3ms/step - loss: 0.0614 - accuracy: 0.9845 - mse: 0.0061 - val_loss: 0.0216 - val_accuracy: 0.9940 - val_mse: 0.0024\n",
            "Epoch 94/100\n",
            "8125/8125 [==============================] - 21s 3ms/step - loss: 0.0554 - accuracy: 0.9844 - mse: 0.0061 - val_loss: 0.0227 - val_accuracy: 0.9944 - val_mse: 0.0024\n",
            "Epoch 95/100\n",
            "8125/8125 [==============================] - 20s 3ms/step - loss: 0.0587 - accuracy: 0.9840 - mse: 0.0063 - val_loss: 0.0204 - val_accuracy: 0.9940 - val_mse: 0.0023\n",
            "Epoch 96/100\n",
            "8125/8125 [==============================] - 21s 3ms/step - loss: 0.0566 - accuracy: 0.9840 - mse: 0.0063 - val_loss: 0.0203 - val_accuracy: 0.9945 - val_mse: 0.0019\n",
            "Epoch 97/100\n",
            "8125/8125 [==============================] - 21s 3ms/step - loss: 0.0580 - accuracy: 0.9839 - mse: 0.0064 - val_loss: 0.0219 - val_accuracy: 0.9942 - val_mse: 0.0021\n",
            "Epoch 98/100\n",
            "8125/8125 [==============================] - 21s 3ms/step - loss: 0.0570 - accuracy: 0.9839 - mse: 0.0064 - val_loss: 0.0259 - val_accuracy: 0.9892 - val_mse: 0.0031\n",
            "Epoch 99/100\n",
            "8125/8125 [==============================] - 21s 3ms/step - loss: 0.0589 - accuracy: 0.9840 - mse: 0.0063 - val_loss: 0.0208 - val_accuracy: 0.9946 - val_mse: 0.0021\n",
            "Epoch 100/100\n",
            "8125/8125 [==============================] - 21s 3ms/step - loss: 0.0593 - accuracy: 0.9836 - mse: 0.0065 - val_loss: 0.0222 - val_accuracy: 0.9941 - val_mse: 0.0021\n",
            "8750/8750 [==============================] - 16s 2ms/step - loss: 0.0222 - accuracy: 0.9941 - mse: 0.0021\n",
            "Test results - Loss: 0.022154822945594788 - Accuracy: 0.9941357374191284%\n"
          ]
        }
      ]
    },
    {
      "cell_type": "code",
      "source": [
        "x_train.info()"
      ],
      "metadata": {
        "colab": {
          "base_uri": "https://localhost:8080/"
        },
        "id": "OuUCx9SWqbAg",
        "outputId": "dd14fe30-c976-4ec2-fa13-f7708ff032ef"
      },
      "execution_count": null,
      "outputs": [
        {
          "output_type": "stream",
          "name": "stdout",
          "text": [
            "<class 'pandas.core.frame.DataFrame'>\n",
            "Int64Index: 520000 entries, 2253029 to 250032\n",
            "Data columns (total 55 columns):\n",
            " #   Column                       Non-Null Count   Dtype\n",
            "---  ------                       --------------   -----\n",
            " 0    Destination Port            520000 non-null  uint8\n",
            " 1    Flow Duration               520000 non-null  uint8\n",
            " 2    Total Fwd Packets           520000 non-null  uint8\n",
            " 3    Total Backward Packets      520000 non-null  uint8\n",
            " 4   Total Length of Fwd Packets  520000 non-null  uint8\n",
            " 5    Fwd Packet Length Max       520000 non-null  uint8\n",
            " 6    Fwd Packet Length Min       520000 non-null  uint8\n",
            " 7    Fwd Packet Length Mean      520000 non-null  uint8\n",
            " 8    Fwd Packet Length Std       520000 non-null  uint8\n",
            " 9   Bwd Packet Length Max        520000 non-null  uint8\n",
            " 10   Bwd Packet Length Min       520000 non-null  uint8\n",
            " 11   Bwd Packet Length Mean      520000 non-null  uint8\n",
            " 12   Bwd Packet Length Std       520000 non-null  uint8\n",
            " 13  Flow Bytes/s                 520000 non-null  uint8\n",
            " 14   Flow Packets/s              520000 non-null  uint8\n",
            " 15   Flow IAT Mean               520000 non-null  uint8\n",
            " 16   Flow IAT Std                520000 non-null  uint8\n",
            " 17   Flow IAT Max                520000 non-null  uint8\n",
            " 18   Flow IAT Min                520000 non-null  uint8\n",
            " 19  Fwd IAT Total                520000 non-null  uint8\n",
            " 20   Fwd IAT Mean                520000 non-null  uint8\n",
            " 21   Fwd IAT Std                 520000 non-null  uint8\n",
            " 22   Fwd IAT Max                 520000 non-null  uint8\n",
            " 23   Fwd IAT Min                 520000 non-null  uint8\n",
            " 24  Bwd IAT Total                520000 non-null  uint8\n",
            " 25   Bwd IAT Max                 520000 non-null  uint8\n",
            " 26  Fwd PSH Flags                520000 non-null  uint8\n",
            " 27   Fwd Header Length           520000 non-null  uint8\n",
            " 28   Bwd Header Length           520000 non-null  uint8\n",
            " 29  Fwd Packets/s                520000 non-null  uint8\n",
            " 30   Min Packet Length           520000 non-null  uint8\n",
            " 31   Max Packet Length           520000 non-null  uint8\n",
            " 32   Packet Length Mean          520000 non-null  uint8\n",
            " 33   Packet Length Std           520000 non-null  uint8\n",
            " 34   Packet Length Variance      520000 non-null  uint8\n",
            " 35  FIN Flag Count               520000 non-null  uint8\n",
            " 36   PSH Flag Count              520000 non-null  uint8\n",
            " 37   ACK Flag Count              520000 non-null  uint8\n",
            " 38   URG Flag Count              520000 non-null  uint8\n",
            " 39   Average Packet Size         520000 non-null  uint8\n",
            " 40   Avg Fwd Segment Size        520000 non-null  uint8\n",
            " 41   Avg Bwd Segment Size        520000 non-null  uint8\n",
            " 42   Fwd Header Length.1         520000 non-null  uint8\n",
            " 43  Subflow Fwd Packets          520000 non-null  uint8\n",
            " 44   Subflow Fwd Bytes           520000 non-null  uint8\n",
            " 45   Subflow Bwd Packets         520000 non-null  uint8\n",
            " 46   Subflow Bwd Bytes           520000 non-null  uint8\n",
            " 47  Init_Win_bytes_forward       520000 non-null  uint8\n",
            " 48   Init_Win_bytes_backward     520000 non-null  uint8\n",
            " 49   act_data_pkt_fwd            520000 non-null  uint8\n",
            " 50   min_seg_size_forward        520000 non-null  uint8\n",
            " 51  Idle Mean                    520000 non-null  uint8\n",
            " 52   Idle Std                    520000 non-null  uint8\n",
            " 53   Idle Max                    520000 non-null  uint8\n",
            " 54   Idle Min                    520000 non-null  uint8\n",
            "dtypes: uint8(55)\n",
            "memory usage: 31.2 MB\n"
          ]
        }
      ]
    },
    {
      "cell_type": "code",
      "metadata": {
        "id": "CrVJnsatBpRD"
      },
      "source": [
        "new_df[' Label'].value_counts()"
      ],
      "execution_count": null,
      "outputs": []
    },
    {
      "cell_type": "code",
      "metadata": {
        "colab": {
          "base_uri": "https://localhost:8080/"
        },
        "id": "nvb5CTgRBpX_",
        "outputId": "e1c6a0a5-86e0-4daa-b995-c2e106265354"
      },
      "source": [
        "test_results = model.evaluate(x_test, Y_test, verbose=1)"
      ],
      "execution_count": null,
      "outputs": [
        {
          "output_type": "stream",
          "name": "stdout",
          "text": [
            "8750/8750 [==============================] - 15s 2ms/step - loss: 0.0222 - accuracy: 0.9941 - mse: 0.0021\n"
          ]
        }
      ]
    },
    {
      "cell_type": "code",
      "metadata": {
        "id": "dcpCWxuRBpaW"
      },
      "source": [
        "x_test.head(10)"
      ],
      "execution_count": null,
      "outputs": []
    },
    {
      "cell_type": "code",
      "metadata": {
        "id": "T17WFiwBI54v"
      },
      "source": [
        "l = model.predict(x_test, verbose=0)"
      ],
      "execution_count": null,
      "outputs": []
    },
    {
      "cell_type": "code",
      "metadata": {
        "id": "xVEPqMXALuaz"
      },
      "source": [
        "l = np.argmax(l, axis=1)\n",
        "prediction_int = np.zeroes_like(prediction)\n",
        "prediction_int[prediction > 0.5] = 1"
      ],
      "execution_count": null,
      "outputs": []
    },
    {
      "cell_type": "code",
      "metadata": {
        "colab": {
          "base_uri": "https://localhost:8080/"
        },
        "id": "VdoylNFeNAQA",
        "outputId": "f9c43a8a-b734-4dc1-fc57-12b2131d1afb"
      },
      "source": [
        "print(l)\n",
        "l = l.round()\n",
        "print(l)"
      ],
      "execution_count": null,
      "outputs": [
        {
          "output_type": "stream",
          "name": "stdout",
          "text": [
            "[[9.9999988e-01 9.4183157e-08 4.1691074e-11 0.0000000e+00]\n",
            " [1.0000000e+00 6.2043266e-11 4.0033752e-16 0.0000000e+00]\n",
            " [1.0000000e+00 1.6741014e-10 1.0743874e-15 0.0000000e+00]\n",
            " ...\n",
            " [1.4764822e-02 8.7535969e-04 3.3552384e-03 9.8100454e-01]\n",
            " [1.0000000e+00 5.3965986e-21 3.7108573e-32 0.0000000e+00]\n",
            " [1.8769801e-05 7.1809183e-17 9.9998128e-01 0.0000000e+00]]\n",
            "[[1. 0. 0. 0.]\n",
            " [1. 0. 0. 0.]\n",
            " [1. 0. 0. 0.]\n",
            " ...\n",
            " [0. 0. 0. 1.]\n",
            " [1. 0. 0. 0.]\n",
            " [0. 0. 1. 0.]]\n"
          ]
        }
      ]
    },
    {
      "cell_type": "code",
      "metadata": {
        "id": "F4dE4WDwgEPF"
      },
      "source": [
        "from sklearn.metrics import f1_score\n"
      ],
      "execution_count": null,
      "outputs": []
    },
    {
      "cell_type": "code",
      "metadata": {
        "colab": {
          "base_uri": "https://localhost:8080/"
        },
        "id": "EVOaOB1pJRy5",
        "outputId": "18d365a7-eb65-4254-8e28-8606cc7408a3"
      },
      "source": [
        "print(f1_score(Y_test, l, average='macro'), 'f1') \n",
        "# 0.22442756164188604 f1\n"
      ],
      "execution_count": null,
      "outputs": [
        {
          "output_type": "stream",
          "name": "stdout",
          "text": [
            "0.992935546000768 f1\n"
          ]
        }
      ]
    },
    {
      "cell_type": "code",
      "metadata": {
        "colab": {
          "base_uri": "https://localhost:8080/"
        },
        "id": "LiRUz1bCJY0D",
        "outputId": "fd5c82a3-f7d5-4713-adbe-e5f37a4b546c"
      },
      "source": [
        "l"
      ],
      "execution_count": null,
      "outputs": [
        {
          "output_type": "execute_result",
          "data": {
            "text/plain": [
              "array([[0.8108735 , 0.04763747, 0.08484388, 0.0566451 ],\n",
              "       [0.8108735 , 0.04763747, 0.08484388, 0.0566451 ],\n",
              "       [0.8108735 , 0.04763747, 0.08484388, 0.0566451 ],\n",
              "       ...,\n",
              "       [0.8108735 , 0.04763747, 0.08484388, 0.0566451 ],\n",
              "       [0.8108735 , 0.04763747, 0.08484388, 0.0566451 ],\n",
              "       [0.8108735 , 0.04763747, 0.08484388, 0.0566451 ]], dtype=float32)"
            ]
          },
          "metadata": {},
          "execution_count": 79
        }
      ]
    },
    {
      "cell_type": "code",
      "metadata": {
        "colab": {
          "base_uri": "https://localhost:8080/"
        },
        "id": "4A9s-0J2JipE",
        "outputId": "f2e5f1d1-dd82-402a-de11-991c5206e28c"
      },
      "source": [
        "Y_test"
      ],
      "execution_count": null,
      "outputs": [
        {
          "output_type": "execute_result",
          "data": {
            "text/plain": [
              "array([[1., 0., 0., 0.],\n",
              "       [1., 0., 0., 0.],\n",
              "       [1., 0., 0., 0.],\n",
              "       ...,\n",
              "       [1., 0., 0., 0.],\n",
              "       [1., 0., 0., 0.],\n",
              "       [1., 0., 0., 0.]], dtype=float32)"
            ]
          },
          "metadata": {},
          "execution_count": 91
        }
      ]
    },
    {
      "cell_type": "code",
      "metadata": {
        "id": "0pnUAhaIXiGN"
      },
      "source": [
        "filename = ('/content/drive/MyDrive/MNAD-FYP/MachineLearningCVE/Dataset-Analysis/800kValidation-Dos-DDos-PS-Benign.h5')\n",
        "valid_df = pd.read_hdf(filename)"
      ],
      "execution_count": null,
      "outputs": []
    },
    {
      "cell_type": "code",
      "metadata": {
        "id": "0CHkuj5Zp4FC"
      },
      "source": [
        "del valid_df['Unnamed: 0']\n",
        "valid_df.columns"
      ],
      "execution_count": null,
      "outputs": []
    },
    {
      "cell_type": "code",
      "metadata": {
        "id": "SipsE3gup6tr"
      },
      "source": [
        "valid_df.replace([np.inf, -np.inf], np.nan, inplace=True)\n",
        "# Dropping all the rows with nan values\n",
        "valid_df.dropna(inplace=True)\n",
        "\n",
        "# le = LabelEncoder()\n",
        "Y=valid_df[' Label']\n",
        "# len(Y)\n",
        "X=valid_df.iloc[:,:-1]"
      ],
      "execution_count": null,
      "outputs": []
    },
    {
      "cell_type": "code",
      "metadata": {
        "id": "33TTCzsTqLWt"
      },
      "source": [
        "# Y_train = to_categorical(, num_classes)\n",
        "Y_test = to_categorical(Y, num_classes)"
      ],
      "execution_count": null,
      "outputs": []
    },
    {
      "cell_type": "code",
      "metadata": {
        "id": "2R8o-KINqt2c"
      },
      "source": [
        "check = model.predict(X, verbose=0)"
      ],
      "execution_count": null,
      "outputs": []
    },
    {
      "cell_type": "code",
      "metadata": {
        "colab": {
          "base_uri": "https://localhost:8080/"
        },
        "id": "wuBLonlwqt2c",
        "outputId": "1688aba2-574d-4fdb-f5c9-b7aff6c26623"
      },
      "source": [
        "print(check)\n",
        "check = check.round()\n",
        "print(check)"
      ],
      "execution_count": null,
      "outputs": [
        {
          "output_type": "stream",
          "name": "stdout",
          "text": [
            "[[1.0000000e+00 1.3289315e-13 2.5395361e-20 0.0000000e+00]\n",
            " [1.0000000e+00 8.0662291e-12 2.2246202e-17 0.0000000e+00]\n",
            " [1.0000000e+00 3.3879440e-21 9.8526837e-35 0.0000000e+00]\n",
            " ...\n",
            " [1.4764822e-02 8.7535969e-04 3.3552384e-03 9.8100454e-01]\n",
            " [1.4764822e-02 8.7535969e-04 3.3552384e-03 9.8100454e-01]\n",
            " [1.4764822e-02 8.7535969e-04 3.3552384e-03 9.8100454e-01]]\n",
            "[[1. 0. 0. 0.]\n",
            " [1. 0. 0. 0.]\n",
            " [1. 0. 0. 0.]\n",
            " ...\n",
            " [0. 0. 0. 1.]\n",
            " [0. 0. 0. 1.]\n",
            " [0. 0. 0. 1.]]\n"
          ]
        }
      ]
    },
    {
      "cell_type": "code",
      "metadata": {
        "colab": {
          "base_uri": "https://localhost:8080/"
        },
        "id": "AqknBK3Tqt2d",
        "outputId": "cdab9fd3-2d94-44f3-836e-f534388039b4"
      },
      "source": [
        "print(f1_score(Y_test, check, average='macro'), 'f1') \n",
        "# 0.22442756164188604 f1\n"
      ],
      "execution_count": null,
      "outputs": [
        {
          "output_type": "stream",
          "name": "stdout",
          "text": [
            "0.99187354905695 f1\n"
          ]
        }
      ]
    },
    {
      "cell_type": "code",
      "metadata": {
        "id": "sbyWrLCNqLSE"
      },
      "source": [
        "filename = ('/content/drive/MyDrive/MNAD-FYP/MachineLearningCVE/Dataset-Analysis/MNAD-DNN.h5')\n",
        "# model.save_weights(filename)"
      ],
      "execution_count": null,
      "outputs": []
    }
  ]
}